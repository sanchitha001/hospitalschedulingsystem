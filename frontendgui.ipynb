#Front-end script to generate window with options as buttons
#Contributors : Akash Bagchi, Akshaya Nadathur, Riya Mary Joseph, Sanchitha N G, Shraavya B K

import sys
from tkinter import *
import tkinter.font as font

window = Tk()
myFont = font.Font(family='Helvetica')
myFont1 = font.Font(size=30)
window.configure(bg='black')


l1 = Label(window, text="Welcome to DSU Hospital Scheduling System", width=40, wraplength='470', bg='black', fg='white')
l1['font']=myFont
l1['font']=myFont1
l1.grid(row=3,column=3)




b1=Button(window,text="Admin Login",width=60,wraplength='25')
b1=Button(window, text="Admin Login",bg='light pink',fg='black')
b1['font'] = myFont
b1['font'] = myFont1
b1.grid(row=4,column=3)

b1=Button(window,text="Schedule appointment",width=60)
b1=Button(window, text="Schedule appointment",bg='light pink',fg='black')
b1['font'] = myFont
b1['font'] = myFont1
b1.grid(row=5,column=3)

b1=Button(window,text="View appointment",width=60)
b1=Button(window, text="View appointment",bg='light pink',fg='black')
b1['font'] = myFont
b1['font'] = myFont1
b1.grid(row=6,column=3)

b1=Button(window,text="Cancel appointment",width=60)
b1=Button(window, text="Cancel appointment",bg='light pink',fg='black')
b1['font'] = myFont
b1['font'] = myFont1
b1.grid(row=7,column=3)

b1=Button(window,text="Close",width=60)
b1=Button(window, text="Close",bg='light pink',fg='black')
b1['font'] = myFont
b1['font'] = myFont1
b1.grid(row=8,column=3)



window.mainloop()
